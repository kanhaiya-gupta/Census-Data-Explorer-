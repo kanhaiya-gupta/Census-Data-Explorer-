{
 "cells": [
  {
   "cell_type": "markdown",
   "id": "99ba9840-7243-47a0-9db2-66bf02326d63",
   "metadata": {},
   "source": [
    "## Connecting to a PostgreSQL  database"
   ]
  },
  {
   "cell_type": "code",
   "execution_count": 35,
   "id": "bca10c79-0358-41fa-acb7-5b1a05f7c5b6",
   "metadata": {},
   "outputs": [
    {
     "name": "stdout",
     "output_type": "stream",
     "text": [
      "['datatrial', 'datatrial2', 'data', 'census', 'new_data', 'census1', 'data1', 'employees', 'employees3', 'employees_2', 'nyc_jobs', 'final_orders', 'state_fact', 'orders', 'users', 'vrska']\n"
     ]
    }
   ],
   "source": [
    "# Import create_engine function from SQLAlchemy to create a database engine\n",
    "from sqlalchemy import create_engine\n",
    "\n",
    "# Import inspect to allow introspection of database metadata (e.g., table names)\n",
    "from sqlalchemy import inspect\n",
    "\n",
    "# Define the database connection URL with PostgreSQL dialect and credentials\n",
    "database_url = (\n",
    "    'postgresql+psycopg2://'  # Dialect and driver: 'postgresql' specifies the database type, 'psycopg2' is the Python adapter for PostgreSQL\n",
    "    'student:'               # Username: 'student' is the user accessing the database\n",
    "    'datacamp'               # Password: 'datacamp' is the password for the 'student' user\n",
    "    '@'                      # Separator: separates credentials from the host information\n",
    "    'postgresql.csrrinzqubik.us-east-1.rds.amazonaws.com'  # Host: the Amazon RDS endpoint where the database is hosted\n",
    "    ':5432'                  # Port: '5432' is the default PostgreSQL port number\n",
    "    '/census'                # Database name: 'census' is the specific database within the PostgreSQL server to connect to\n",
    ")\n",
    "\n",
    "# Create an engine to the census database\n",
    "engine = create_engine(database_url)\n",
    "\n",
    "# Use the inspector to get table names\n",
    "inspector = inspect(engine)\n",
    "print(inspector.get_table_names())"
   ]
  },
  {
   "cell_type": "code",
   "execution_count": null,
   "id": "12c577f8-f458-4463-92e7-bab15e823e74",
   "metadata": {},
   "outputs": [],
   "source": []
  },
  {
   "cell_type": "code",
   "execution_count": null,
   "id": "bbb537d5-92b7-4759-98b3-2fa6a752223b",
   "metadata": {},
   "outputs": [],
   "source": []
  }
 ],
 "metadata": {
  "kernelspec": {
   "display_name": "Python [conda env:base] *",
   "language": "python",
   "name": "conda-base-py"
  },
  "language_info": {
   "codemirror_mode": {
    "name": "ipython",
    "version": 3
   },
   "file_extension": ".py",
   "mimetype": "text/x-python",
   "name": "python",
   "nbconvert_exporter": "python",
   "pygments_lexer": "ipython3",
   "version": "3.12.3"
  }
 },
 "nbformat": 4,
 "nbformat_minor": 5
}
