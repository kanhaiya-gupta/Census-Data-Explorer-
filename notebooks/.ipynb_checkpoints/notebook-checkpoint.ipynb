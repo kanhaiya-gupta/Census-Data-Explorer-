{
 "cells": [
  {
   "cell_type": "markdown",
   "id": "7607bdb2-1707-4361-a984-1c443fe84370",
   "metadata": {},
   "source": [
    "_add text here_"
   ]
  },
  {
   "cell_type": "code",
   "execution_count": null,
   "id": "bd54d744-74f8-481e-8f19-335cf2d98f99",
   "metadata": {},
   "outputs": [],
   "source": [
    "# Import select\n",
    "from sqlalchemy import select\n",
    "\n",
    "# Reflect census table via engine: census\n",
    "census = Table('census', metadata, autoload=True, autoload_with=engine)\n",
    "\n",
    "# Build select statement for census table: stmt\n",
    "stmt = select([census])\n",
    "\n",
    "# Print the emitted statement to see the SQL string\n",
    "print(stmt)\n",
    "\n",
    "# Execute the statement on connection and fetch 10 records: result\n",
    "results = connection.execute(stmt).fetchmany(size=10)\n",
    "\n",
    "\n",
    "# Execute the statement and print the results\n",
    "print(results)"
   ]
  },
  {
   "cell_type": "code",
   "execution_count": null,
   "id": "99106f85-ac74-410c-a9de-dfc234db0dbc",
   "metadata": {},
   "outputs": [],
   "source": []
  },
  {
   "cell_type": "code",
   "execution_count": 6,
   "id": "7f26dd6a-20aa-4d19-8d3f-b8f64fba1821",
   "metadata": {
    "executionCancelledAt": null,
    "executionTime": 1380,
    "lastExecutedAt": 1739043250455,
    "lastExecutedByKernel": "4535e717-4be3-4c82-b50c-68d1c1322e43",
    "lastScheduledRunId": null,
    "lastSuccessfullyExecutedCode": "# Write and run code here\n# Import create_engine function\nfrom sqlalchemy import create_engine, select\ndatabase_url = (\n    'postgresql+psycopg2://'\n    'student:datacamp'\n    '@postgresql.csrrinzqubik.us-east-1.rds.amazonaws.com'\n    ':5432/census'\n)\n# Create an engine to the census database\nengine = create_engine(database_url)\n\n# Use the .table_names() method on the engine to print the table names\nprint(engine.table_names())",
    "outputsMetadata": {
     "0": {
      "height": 80,
      "type": "stream"
     }
    }
   },
   "outputs": [
    {
     "name": "stdout",
     "output_type": "stream",
     "text": [
      "['datatrial', 'datatrial2', 'data', 'census', 'new_data', 'census1', 'data1', 'employees', 'employees3', 'employees_2', 'nyc_jobs', 'final_orders', 'state_fact', 'orders', 'users', 'vrska']\n"
     ]
    }
   ],
   "source": [
    "# Import required SQLAlchemy modules\n",
    "from sqlalchemy import create_engine, text, MetaData, Table, inspect\n",
    "import os\n",
    "\n",
    "# Define the path to the local SQLite database file (corrected for Windows)\n",
    "data_path = r'C:\\Users\\kanha\\Census Data Explorer\\data\\census.sqlite'\n",
    "\n",
    "# Verify the file exists before proceeding\n",
    "if not os.path.exists(data_path):\n",
    "    print(f\"Error: The database file at {data_path} does not exist or cannot be accessed.\")\n",
    "    exit()\n",
    "\n",
    "# Create an engine to the local SQLite database\n",
    "engine = create_engine(f'sqlite:///{data_path}')\n",
    "\n",
    "# Create a connection on engine\n",
    "with engine.connect() as connection:\n",
    "    # Use the inspector to get table names\n",
    "    inspector = inspect(engine)\n",
    "    table_names = inspector.get_table_names()\n",
    "    print(\"Available tables:\", table_names)\n",
    "\n",
    "    # Create a MetaData object\n",
    "    metadata = MetaData()\n",
    "\n",
    "    # Reflect the 'census' table (assuming it exists in the database)\n",
    "    try:\n",
    "        census = Table('census', metadata, autoload_with=engine)\n",
    "        print(\"Census table metadata:\", repr(census))\n",
    "    except Exception as e:\n",
    "        print(f\"Error reflecting 'census' table: {e}\")"
   ]
  },
  {
   "cell_type": "code",
   "execution_count": null,
   "id": "29a652b8-977a-4279-8fd3-1676a1f6de07",
   "metadata": {
    "executionCancelledAt": null,
    "executionTime": 61,
    "lastExecutedAt": 1739043250516,
    "lastExecutedByKernel": "4535e717-4be3-4c82-b50c-68d1c1322e43",
    "lastScheduledRunId": null,
    "lastSuccessfullyExecutedCode": "# Create a select query: stmt\nstmt = select([census]).where(census.columns.sex == 'F')\n\n# Add a where clause to filter the results to only those for New York : stmt_filtered\nstmt = stmt.where(census.columns.state == 'New York')\n\n# Execute the query to retrieve all the data returned: results\nresults = connection.execute(stmt).fetchall()\n\n# Loop over the results and print the age, sex, and pop2000\nfor result in results:\n    print(result.age, result.sex, result.pop2000)\n"
   },
   "outputs": [
    {
     "ename": "NameError",
     "evalue": "name 'census' is not defined",
     "output_type": "error",
     "traceback": [
      "\u001b[0;31m---------------------------------------------------------------------------\u001b[0m",
      "\u001b[0;31mNameError\u001b[0m                                 Traceback (most recent call last)",
      "Cell \u001b[0;32mIn[7], line 2\u001b[0m\n\u001b[1;32m      1\u001b[0m \u001b[38;5;66;03m# Create a select query: stmt\u001b[39;00m\n\u001b[0;32m----> 2\u001b[0m stmt \u001b[38;5;241m=\u001b[39m select([\u001b[43mcensus\u001b[49m])\u001b[38;5;241m.\u001b[39mwhere(census\u001b[38;5;241m.\u001b[39mcolumns\u001b[38;5;241m.\u001b[39msex \u001b[38;5;241m==\u001b[39m \u001b[38;5;124m'\u001b[39m\u001b[38;5;124mF\u001b[39m\u001b[38;5;124m'\u001b[39m)\n\u001b[1;32m      4\u001b[0m \u001b[38;5;66;03m# Add a where clause to filter the results to only those for New York : stmt_filtered\u001b[39;00m\n\u001b[1;32m      5\u001b[0m stmt \u001b[38;5;241m=\u001b[39m stmt\u001b[38;5;241m.\u001b[39mwhere(census\u001b[38;5;241m.\u001b[39mcolumns\u001b[38;5;241m.\u001b[39mstate \u001b[38;5;241m==\u001b[39m \u001b[38;5;124m'\u001b[39m\u001b[38;5;124mNew York\u001b[39m\u001b[38;5;124m'\u001b[39m)\n",
      "\u001b[0;31mNameError\u001b[0m: name 'census' is not defined"
     ]
    }
   ],
   "source": [
    "# Create a select query: stmt\n",
    "stmt = select([census])\n",
    "\n",
    "# Add a where clause to filter the results to only those for New York : stmt_filtered\n",
    "stmt = stmt.where(census.columns.state == 'New York')\n",
    "\n",
    "# Execute the query to retrieve all the data returned: results\n",
    "results = connection.execute(stmt).fetchall()\n",
    "\n",
    "# Loop over the results and print the age, sex, and pop2000\n",
    "for result in results:\n",
    "    print(result.age, result.sex, result.pop2000)\n"
   ]
  },
  {
   "cell_type": "code",
   "execution_count": null,
   "id": "4aeb4367-b27e-4676-a8d4-cc0174cd20bc",
   "metadata": {},
   "outputs": [],
   "source": [
    "# Define a list of states for which we want results\n",
    "states = ['New York', 'California', 'Texas']\n",
    "\n",
    "# Create a query for the census table: stmt\n",
    "stmt = select([census])\n",
    "\n",
    "# Append a where clause to match all the states in_ the list states\n",
    "stmt = stmt.where(census.columns.state.in_(states))\n",
    "\n",
    "# Loop over the ResultProxy and print the state and its population in 2000\n",
    "for result in connection.execute(stmt):\n",
    "    print(result.state, result.pop2000)\n"
   ]
  },
  {
   "cell_type": "code",
   "execution_count": null,
   "id": "a5cbb098-e1ab-411f-baff-bed0ed6a159d",
   "metadata": {},
   "outputs": [],
   "source": [
    "# Import and_\n",
    "from sqlalchemy import and_\n",
    "\n",
    "# Build a query for the census table: stmt\n",
    "stmt = select([census])\n",
    "\n",
    "# Append a where clause to select only non-male records from California using and_\n",
    "stmt = stmt.where(\n",
    "    # The state of California with a non-male sex\n",
    "    and_(census.columns.state == 'California',\n",
    "         census.columns.sex != 'M'\n",
    "         )\n",
    ")\n",
    "\n",
    "# Loop over the ResultProxy printing the age and sex\n",
    "for result in connection.execute(stmt):\n",
    "    print(result.age, result.sex)\n"
   ]
  },
  {
   "cell_type": "code",
   "execution_count": null,
   "id": "7d54edc7-fa54-4c46-bac8-1217dcdc7fe6",
   "metadata": {},
   "outputs": [],
   "source": [
    "# Build a query to select the state column: stmt\n",
    "stmt = select([census.columns.state])\n",
    "\n",
    "# Order stmt by the state column\n",
    "stmt = stmt.order_by(census.columns.state)\n",
    "\n",
    "# Execute the query and store the results: results\n",
    "results = connection.execute(stmt).fetchall()\n",
    "\n",
    "# Print the first 10 results\n",
    "print(results[:10])\n"
   ]
  },
  {
   "cell_type": "code",
   "execution_count": null,
   "id": "9b14d505-d806-4011-9fa0-5c765fbdce8d",
   "metadata": {},
   "outputs": [],
   "source": [
    "# Import desc\n",
    "from sqlalchemy import desc\n",
    "\n",
    "# Build a query to select the state column: stmt\n",
    "stmt = select([census.columns.state])\n",
    "\n",
    "# Order stmt by state in descending order: rev_stmt\n",
    "rev_stmt = stmt.order_by(desc(census.columns.state))\n",
    "# Execute the query and store the results: rev_results\n",
    "rev_results = connection.execute(rev_stmt).fetchall()\n",
    "\n",
    "# Print the first 10 rev_results\n",
    "print(rev_results[:10])\n"
   ]
  },
  {
   "cell_type": "code",
   "execution_count": null,
   "id": "238195f5-63e0-4b44-9c5e-2238d0e54fe4",
   "metadata": {},
   "outputs": [],
   "source": [
    "# Build a query to select state and age: stmt\n",
    "stmt = select([census.columns.state, census.columns.age])\n",
    "\n",
    "# Append order by to ascend by state and descend by age\n",
    "stmt = stmt.order_by(census.columns.state, desc(census.columns.age))\n",
    "\n",
    "# Execute the statement and store all the records: results\n",
    "results = connection.execute(stmt).fetchall()\n",
    "\n",
    "# Print the first 20 results\n",
    "print(results[:20])\n"
   ]
  },
  {
   "cell_type": "markdown",
   "id": "68be21f0-727e-4faf-9a17-33eabe8bafe3",
   "metadata": {},
   "source": [
    "# Counting distinct data"
   ]
  },
  {
   "cell_type": "markdown",
   "id": "6f2a872c-b012-4103-bfb4-cc30996fc2c1",
   "metadata": {},
   "source": [
    "```As mentioned in the video, SQLAlchemy's func module provides access to built-in SQL functions that can make operations like counting and summing faster and more efficient.\n",
    "\n",
    "In the video, Jason used func.sum() to get a sum of the pop2008 column of census as shown below:\n",
    "\n",
    "select([func.sum(census.columns.pop2008)])\n",
    "If instead you want to count the number of values in pop2008, you could use func.count() like this:\n",
    "\n",
    "select([func.count(census.columns.pop2008)])\n",
    "Furthermore, if you only want to count the distinct values of pop2008, you can use the .distinct() method:\n",
    "\n",
    "select([func.count(census.columns.pop2008.distinct())])\n",
    "In this exercise, you will practice using func.count() and .distinct() to get a count of the distinct number of states in census.\n",
    "\n",
    "So far, you've seen .fetchall(), .fetchmany(), and .first() used on a ResultProxy to get the results. The ResultProxy also has a method called .scalar() for getting just the value of a query that returns only one row and column.\n",
    "\n",
    "This can be very useful when you are querying for just a count or sum.\n",
    "```"
   ]
  },
  {
   "cell_type": "code",
   "execution_count": null,
   "id": "f31e21c0-a989-466a-ad70-ab534f3f4849",
   "metadata": {
    "collapsed": false,
    "jupyter": {
     "outputs_hidden": false,
     "source_hidden": false
    }
   },
   "outputs": [],
   "source": [
    "# Build a query to count the distinct states values: stmt\n",
    "stmt = select([func.count(census.columns.state.distinct())])\n",
    "\n",
    "# Execute the query and store the scalar result: distinct_state_count\n",
    "distinct_state_count = connection.execute(stmt).scalar()\n",
    "\n",
    "# Print the distinct_state_count\n",
    "print(distinct_state_count)\n"
   ]
  },
  {
   "cell_type": "markdown",
   "id": "603ae156-ea7a-4089-9477-5f4d2ce19444",
   "metadata": {},
   "source": [
    "# Count of records by state"
   ]
  },
  {
   "cell_type": "markdown",
   "id": "2c178108-9036-49e9-8c39-1c969b539b24",
   "metadata": {},
   "source": [
    "Often, we want to get a count for each record with a particular value in another column. The .group_by() method helps answer this type of query. You can pass a column to the .group_by() method and use in an aggregate function like sum() or count(). Much like the .order_by() method, .group_by() can take multiple columns as arguments.\n",
    "\n",
    "Instructions\n",
    "\n",
    "Import func from sqlalchemy.\n",
    "Build a select statement to get the value of the state field and a count of the values in the age field, and store it as stmt.\n",
    "Use the .group_by() method to group the statement by the state column.\n",
    "Execute stmt using the connection to get the count and store the results as results.\n",
    "Print the keys/column names of the results returned using results[0].keys()."
   ]
  },
  {
   "cell_type": "code",
   "execution_count": null,
   "id": "6c2884ac-e6a5-429a-8a44-e727678a2976",
   "metadata": {},
   "outputs": [],
   "source": [
    "# Import func\n",
    "from sqlalchemy import func\n",
    "\n",
    "# Build a query to select the state and count of ages by state: stmt\n",
    "stmt = select([census.columns.state, func.count(census.columns.age)])\n",
    "\n",
    "# Group stmt by state\n",
    "stmt = stmt.group_by(census.columns.state)\n",
    "\n",
    "# Execute the statement and store all the records: results\n",
    "results = connection.execute(stmt).fetchall()\n",
    "\n",
    "# Print results\n",
    "print(results)\n",
    "\n",
    "# Print the keys/column names of the results returned\n",
    "print(results[0].keys())"
   ]
  },
  {
   "cell_type": "markdown",
   "id": "93f94f50-82cd-4d9d-bc5e-58daa8485972",
   "metadata": {},
   "source": [
    "# Determining the population sum by state"
   ]
  },
  {
   "cell_type": "markdown",
   "id": "4431ee2b-0bdc-4f42-b810-18377917a0c5",
   "metadata": {},
   "source": [
    "To avoid confusion with query result column names like count_1, we can use the .label() method to provide a name for the resulting column. This gets appended to the function method we are using, and its argument is the name we want to use.\n",
    "\n",
    "We can pair func.sum() with .group_by() to get a sum of the population by State and use the label() method to name the output.\n",
    "\n",
    "We can also create the func.sum() expression before using it in the select statement. We do it the same way we would inside the select statement and store it in a variable. Then we use that variable in the select statement where the func.sum() would normally be.\n",
    "\n",
    "Instructions\n",
    "\n",
    "Instructions\n",
    "100 XP\n",
    "Import func from sqlalchemy.\n",
    "Build an expression to calculate the sum of the values in the pop2008 field labeled as 'population'.\n",
    "Build a select statement to get the value of the state field and the sum of the values in pop2008.\n",
    "Group the statement by state using a .group_by() method.\n",
    "Execute stmt using the connection to get the count and store the results as results.\n",
    "Print the keys/column names of the results returned using results[0].keys()."
   ]
  },
  {
   "cell_type": "code",
   "execution_count": null,
   "id": "eed950b2-840d-4d64-a86f-3aef113eda2c",
   "metadata": {},
   "outputs": [],
   "source": [
    "# Import func\n",
    "from sqlalchemy import func\n",
    "\n",
    "# Build an expression to calculate the sum of pop2008 labeled as population\n",
    "pop2008_sum = func.sum(census.columns.pop2008).label('population')\n",
    "\n",
    "# Build a query to select the state and sum of pop2008: stmt\n",
    "stmt = select([census.columns.state, pop2008_sum])\n",
    "\n",
    "# Group stmt by state\n",
    "stmt = stmt.group_by(census.columns.state)\n",
    "\n",
    "# Execute the statement and store all the records: results\n",
    "results = connection.execute(stmt).fetchall()\n",
    "\n",
    "# Print results\n",
    "print(results)\n",
    "\n",
    "# Print the keys/column names of the results returned\n",
    "print(results[0].keys())"
   ]
  },
  {
   "cell_type": "markdown",
   "id": "349afb95-c043-4da9-97d5-1e988c52d48b",
   "metadata": {},
   "source": [
    "# ResultsSets and pandas DataFrames"
   ]
  },
  {
   "cell_type": "markdown",
   "id": "67e26ec7-e3d4-4023-a1c5-c97134231e08",
   "metadata": {},
   "source": [
    "We can feed a ResultSet directly into a pandas DataFrame, which is the workhorse of many Data Scientists in PythonLand. Jason demonstrated this in the video. In this exercise, you'll follow exactly the same approach to convert a ResultSet into a DataFrame.\n",
    "\n",
    "Instructions\n",
    "100 XP\n",
    "Import pandas as pd.\n",
    "Create a DataFrame df using pd.DataFrame() on the ResultSet results.\n",
    "Set the columns of the DataFrame df.columns to be the columns from the first result object results[0].keys().\n",
    "Print the DataFrame.\n"
   ]
  },
  {
   "cell_type": "code",
   "execution_count": null,
   "id": "816d66a6-e232-4d24-b8ec-3f5e8a930ae2",
   "metadata": {},
   "outputs": [],
   "source": [
    "# import pandas\n",
    "import pandas as pd\n",
    "\n",
    "# Create a DataFrame from the results: df\n",
    "df = pd.DataFrame(results)\n",
    "\n",
    "# Set column names\n",
    "df.columns = results[0].keys()\n",
    "\n",
    "# Print the DataFrame\n",
    "print(df)"
   ]
  },
  {
   "cell_type": "markdown",
   "id": "aba7171e-1829-4d64-a3ed-f9dfc9eab9b0",
   "metadata": {},
   "source": [
    "# From SQLAlchemy results to a plot"
   ]
  },
  {
   "cell_type": "markdown",
   "id": "7f2b72b2-113a-4cbf-806e-b3f8a8f489bb",
   "metadata": {},
   "source": [
    "We can also take advantage of pandas and Matplotlib to build figures of our data. Remember that data visualization is essential for both exploratory data analysis and communication of your data!\n",
    "\n",
    "Instructions\n",
    "100 XP\n",
    "Import matplotlib.pyplot as plt.\n",
    "Create a DataFrame df using pd.DataFrame() on the provided results.\n",
    "Set the columns of the DataFrame df.columns to be the columns from the first result object results[0].keys().\n",
    "Print the DataFrame df.\n",
    "Use the plot.bar() method on df to create a bar plot of the results.\n",
    "Display the plot with plt.show()."
   ]
  },
  {
   "cell_type": "code",
   "execution_count": null,
   "id": "23879d63-cedb-40cd-844b-cf6a6ed1d6e4",
   "metadata": {},
   "outputs": [],
   "source": [
    "# Import pyplot as plt from matplotlib\n",
    "import matplotlib.pyplot as plt\n",
    "\n",
    "# Create a DataFrame from the results: df\n",
    "df = pd.DataFrame(results)\n",
    "\n",
    "# Set Column names\n",
    "df.columns = results[0].keys()\n",
    "\n",
    "# Print the DataFrame\n",
    "print(df)\n",
    "\n",
    "# Plot the DataFrame\n",
    "df.plot.bar()\n",
    "plt.show()\n"
   ]
  },
  {
   "cell_type": "markdown",
   "id": "351d8451-1b8c-4d03-abcd-888ca0bc40fa",
   "metadata": {},
   "source": [
    "# Connecting to a MySQL database"
   ]
  },
  {
   "cell_type": "markdown",
   "id": "abd75646-1b8c-458c-87a4-d13459dc9928",
   "metadata": {},
   "source": [
    "Before you jump into the calculation exercises, let's begin by connecting to our database. Recall that in the last chapter you connected to a PostgreSQL database. Now, you'll connect to a MySQL database, for which many prefer to use the pymysql database driver, which, like psycopg2 for PostgreSQL, you have to install prior to use.\n",
    "\n",
    "This connection string is going to start with 'mysql+pymysql://', indicating which dialect and driver you're using to establish the connection. The dialect block is followed by the 'username:password' combo. Next, you specify the host and port with the following '@host:port/'. Finally, you wrap up the connection string with the 'database_name'.\n",
    "\n",
    "Now you'll practice connecting to a MySQL database: it will be the same census database that you have already been working with. One of the great things about SQLAlchemy is that, after connecting, it abstracts over the type of database it has connected to and you can write the same SQLAlchemy code, regardless!\n",
    "\n",
    "Instructions\n",
    "100 XP\n",
    "Import the create_engine function from the sqlalchemy library.\n",
    "Create an engine to the census database by concatenating the following strings and passing them to create_engine():\n",
    "'mysql+pymysql://' (the dialect and driver).\n",
    "'student:datacamp' (the username and password).\n",
    "'@courses.csrrinzqubik.us-east-1.rds.amazonaws.com:3306/' (the host and port).\n",
    "'census' (the database name).\n",
    "Use the .table_names() method on engine to print the table names."
   ]
  },
  {
   "cell_type": "code",
   "execution_count": null,
   "id": "19cb737d-f436-4bad-a729-d26a27ae02f2",
   "metadata": {},
   "outputs": [],
   "source": [
    "# Import create_engine function\n",
    "from sqlalchemy import create_engine\n",
    "\n",
    "dialect_driver = 'mysql+pymysql://'\n",
    "username_password = 'student:datacamp'\n",
    "host_port = '@courses.csrrinzqubik.us-east-1.rds.amazonaws.com:3306/'\n",
    "database_name = 'census'\n",
    "\n",
    "# Concatenate the connection string\n",
    "connection_string = dialect_driver + username_password + host_port + database_name\n",
    "\n",
    "# Create an engine to the census database\n",
    "engine = create_engine(connection_string)\n",
    "\n",
    "# Print the table names\n",
    "print(engine.table_names())\n"
   ]
  },
  {
   "cell_type": "markdown",
   "id": "608190a8-be42-48a2-bcae-e6d82456993b",
   "metadata": {},
   "source": [
    "# Calculating a difference between two columns"
   ]
  },
  {
   "cell_type": "markdown",
   "id": "aef77923-ef78-4292-bf15-6ceb5e800321",
   "metadata": {},
   "source": [
    "Often, you'll need to perform math operations as part of a query, such as if you wanted to calculate the change in population from 2000 to 2008. For math operations on numbers, the operators in SQLAlchemy work the same way as they do in Python.\n",
    "\n",
    "You can use these operators to perform addition (+), subtraction (-), multiplication (*), division (/), and modulus (%) operations. Note: They behave differently when used with non-numeric column types.\n",
    "\n",
    "Let's now find the top 5 states by population growth between 2000 and 2008.\n",
    "\n",
    "Instructions\n",
    "100 XP\n",
    "Define a select statement called stmt to return:\n",
    "i) The state column of the census table (census.columns.state).\n",
    "ii) The difference in population count between 2008 (census.columns.pop2008) and 2000 (census.columns.pop2000) labeled as 'pop_change'.\n",
    "Group the statement by census.columns.state.\n",
    "Order the statement by population change ('pop_change') in descending order. Do so by passing it desc('pop_change').\n",
    "Use the .limit() method on the previous statement to return only 5 records.\n",
    "Execute the statement and fetchall() the records.\n",
    "The print statement has already been written for you. Submit the answer to view the results!"
   ]
  },
  {
   "cell_type": "code",
   "execution_count": null,
   "id": "4aba4390-5761-4b7f-bd3a-dec051b731fc",
   "metadata": {},
   "outputs": [],
   "source": [
    "# Build query to return state names by population difference from 2008 to 2000: stmt\n",
    "stmt = select([census.columns.state, (census.columns.pop2008 - census.columns.pop2000).label(\"pop_change\")])\n",
    "\n",
    "# Append group by for the state: stmt_grouped\n",
    "stmt_grouped = stmt.group_by(census.columns.state)\n",
    "\n",
    "# Append order by for pop_change descendingly: stmt_ordered\n",
    "stmt_ordered = stmt_grouped.order_by(desc('pop_change'))\n",
    "\n",
    "# Return only 5 results: stmt_top5\n",
    "stmt_top5 = stmt_ordered.limit(5)\n",
    "\n",
    "# Use connection to execute stmt_top5 and fetch all results\n",
    "results = connection.execute(stmt_top5).fetchall()\n",
    "\n",
    "# Print the state and population change for each record\n",
    "for result in results:\n",
    "    print('{}:{}'.format(result.state, result.pop_change))\n"
   ]
  },
  {
   "cell_type": "markdown",
   "id": "b6d560ff-9c63-41fa-841d-76c66a9e5d55",
   "metadata": {},
   "source": [
    "# Determining the overall percentage of women"
   ]
  },
  {
   "cell_type": "markdown",
   "id": "c857aec4-446f-4861-af59-be3df6344143",
   "metadata": {},
   "source": [
    "It's possible to combine functions and operators in a single select statement as well. These combinations can be exceptionally handy when we want to calculate percentages or averages, and we can also use the case() expression to operate on data that meets specific criteria while not affecting the query as a whole. The case() expression accepts a list of conditions to match and the column to return if the condition matches, followed by an else_ if none of the conditions match. We can wrap this entire expression in any function or math operation we like.\n",
    "\n",
    "Often when performing integer division, we want to get a float back. While some databases will do this automatically, you can use the cast() function to convert an expression to a particular type.\n",
    "\n",
    "Instructions\n",
    "100 XP\n",
    "Instructions\n",
    "100 XP\n",
    "Import case, cast, and Float from sqlalchemy.\n",
    "Build an expression female_pop2000to calculate female population in 2000. To achieve this:\n",
    "Use case() inside func.sum().\n",
    "The first argument of case() is a list containing a tuple of\n",
    "i) A boolean checking that census.columns.sex is equal to 'F'.\n",
    "ii) The column census.columns.pop2000.\n",
    "The second argument is the else_ condition, which should be set to 0.\n",
    "Calculate the total population in 2000 and use cast() to convert it to Float.\n",
    "Build a query to calculate the percentage of women in 2000. To do this, divide female_pop2000 by total_pop2000 and multiply by 100.\n",
    "Execute the query and print percent_female."
   ]
  },
  {
   "cell_type": "code",
   "execution_count": null,
   "id": "ab5c282e-3236-4d13-94d7-9f7b334beab6",
   "metadata": {},
   "outputs": [],
   "source": [
    "# import case, cast and Float from sqlalchemy\n",
    "from sqlalchemy import case, cast, Float\n",
    "\n",
    "# Build an expression to calculate female population in 2000\n",
    "female_pop2000 = func.sum(\n",
    "    case([\n",
    "        (census.columns.sex == 'F', census.columns.pop2000)\n",
    "    ], else_=0))\n",
    "\n",
    "# Cast an expression to calculate total population in 2000 to Float\n",
    "total_pop2000 = cast(func.sum(census.columns.pop2000), Float)\n",
    "\n",
    "# Build a query to calculate the percentage of women in 2000: stmt\n",
    "stmt = select([female_pop2000 / total_pop2000* 100])\n",
    "\n",
    "# Execute the query and store the scalar result: percent_female\n",
    "percent_female = connection.execute(stmt).scalar()\n",
    "\n",
    "# Print the percentage\n",
    "print(percent_female)\n"
   ]
  },
  {
   "cell_type": "markdown",
   "id": "f2a1e49f-9e4e-407b-b5cb-320a99131e19",
   "metadata": {},
   "source": [
    "# SQL relationships\n"
   ]
  },
  {
   "cell_type": "markdown",
   "id": "121c4cb8-d90c-4607-85fb-4417ed51bf61",
   "metadata": {},
   "source": []
  },
  {
   "cell_type": "code",
   "execution_count": null,
   "id": "8d0ca417-62bb-4014-927a-3235ff9e21a1",
   "metadata": {},
   "outputs": [],
   "source": []
  },
  {
   "cell_type": "markdown",
   "id": "f05ab2d7-0268-4476-9b5a-d7d2a550437d",
   "metadata": {},
   "source": [
    "# Automatic joins with an established relationship"
   ]
  },
  {
   "cell_type": "markdown",
   "id": "30e0d662-de70-4391-a5c3-899c01043dd6",
   "metadata": {},
   "source": [
    "If you have two tables that already have an established relationship, you can automatically use that relationship by just adding the columns we want from each table to the select statement. Recall that Jason constructed the following query:\n",
    "\n",
    "stmt = select([census.columns.pop2008, state_fact.columns.abbreviation])\n",
    "in order to join the census and state_fact tables and select the pop2008 column from the first and the abbreviation column from the second. In this case, the census and state_fact tables had a pre-defined relationship: the state column of the former corresponded to the name column of the latter.\n",
    "\n",
    "In this exercise, you'll use the same predefined relationship to select the pop2000 and abbreviation columns!\n",
    "\n",
    "Instructions\n",
    "100 XP\n",
    "Build a statement to join the census and state_fact tables and select the pop2000 column from the first and the abbreviation column from the second.\n",
    "Execute the statement to get the first result and save it as result.\n",
    "Submit the answer to loop over the keys of the result object, and print the key and value for each!"
   ]
  },
  {
   "cell_type": "code",
   "execution_count": null,
   "id": "2a836512-a9c6-4dba-ad96-660c02400570",
   "metadata": {},
   "outputs": [],
   "source": [
    "# Build a statement to join census and state_fact tables: stmt\n",
    "stmt = select([census.columns.pop2000, state_fact.columns.abbreviation])\n",
    "\n",
    "# Execute the statement and get the first result: result\n",
    "result = connection.execute(stmt).first()\n",
    "\n",
    "# Loop over the keys in the result object and print the key and value\n",
    "for key in result.keys():\n",
    "    print(key, getattr(result, key))\n"
   ]
  },
  {
   "cell_type": "markdown",
   "id": "3c4575c5-dee2-4602-8d2f-ac6eef121e1d",
   "metadata": {},
   "source": [
    "# Joins"
   ]
  },
  {
   "cell_type": "markdown",
   "id": "339a9529-dd3b-4a03-ae66-af345d50126a",
   "metadata": {},
   "source": [
    "If you aren't selecting columns from both tables or the two tables don't have a defined relationship, you can still use the .join() method on a table to join it with another table and get extra data related to our query. The join() takes the table object you want to join in as the first argument and a condition that indicates how the tables are related to the second argument. Finally, you use the .select_from() method on the select statement to wrap the join clause. For example, in the video, Jason executed the following code to join the census table to the state_fact table such that the state column of the census table corresponded to the name column of the state_fact table.\n",
    "\n",
    "stmt = stmt.select_from(\n",
    "    census.join(\n",
    "        state_fact, census.columns.state == \n",
    "        state_fact.columns.name)\n",
    "Instructions\n",
    "100 XP\n",
    "Build a statement to select ALL the columns from the census and state_fact tables. To select ALL the columns from two tables employees and sales, for example, you would use stmt = select([employees, sales]).\n",
    "Append a select_from to stmt to join the census table to the state_fact table by the state column in census and the name column in the state_fact table.\n",
    "Execute the statement to get the first result and save it as result. This code is already written.\n",
    "Submit the answer to loop over the keys of the result object, and print the key and value for each!"
   ]
  },
  {
   "cell_type": "code",
   "execution_count": null,
   "id": "4c1ad963-69e5-4134-a79c-ac966ec8aa46",
   "metadata": {},
   "outputs": [],
   "source": [
    "# Build a statement to select the census and state_fact tables: stmt\n",
    "stmt = select([census, state_fact])\n",
    "\n",
    "# Add a select_from clause that wraps a join for the census and state_fact\n",
    "# tables where the census state column and state_fact name column match\n",
    "stmt_join = stmt.select_from(\n",
    "    census.join(state_fact, census.columns.state == state_fact.columns.name))\n",
    "\n",
    "# Execute the statement and get the first result: result\n",
    "result = connection.execute(stmt_join).first()\n",
    "\n",
    "# Loop over the keys in the result object and print the key and value\n",
    "for key in result.keys():\n",
    "    print(key, getattr(result, key))\n"
   ]
  },
  {
   "cell_type": "markdown",
   "id": "096cb3cc-f99b-4481-969a-c081cda2419b",
   "metadata": {},
   "source": [
    "# More practice with joins"
   ]
  },
  {
   "cell_type": "markdown",
   "id": "478fe12c-42b5-40f3-b5ab-66f4253520e7",
   "metadata": {},
   "source": [
    "You can use the same select statement you built in the last exercise, however, let's add a twist and only return a few columns and use the other table in a group_by() clause.\n",
    "\n",
    "Instructions\n",
    "100 XP\n",
    "Build a statement to select:\n",
    "The state column from the census table.\n",
    "The sum of the pop2008 column from the census table.\n",
    "The census_division_name column from the state_fact table.\n",
    "Append a .select_from() to stmt in order to join the census and state_fact tables by the state and name columns.\n",
    "Group the statement by the name column of the state_fact table.\n",
    "Execute the statement stmt_grouped to get all the records and save it as results.\n",
    "Submit the answer to loop over the results object and print each record."
   ]
  },
  {
   "cell_type": "code",
   "execution_count": null,
   "id": "c633e8f1-b025-427a-b05f-fc393f7e93e1",
   "metadata": {},
   "outputs": [],
   "source": [
    "# Build a statement to select the state, sum of 2008 population and census\n",
    "# division name: stmt\n",
    "stmt = select([\n",
    "    census.columns.state,\n",
    "    func.sum(census.columns.pop2008),\n",
    "    state_fact.columns.census_division_name\n",
    "])\n",
    "\n",
    "# Append select_from to join the census and state_fact tables by the census state and state_fact name columns\n",
    "stmt_joined = stmt.select_from(\n",
    "    census.join(state_fact, census.columns.state == state_fact.columns.name)\n",
    ")\n",
    "\n",
    "# Append a group by for the state_fact name column\n",
    "stmt_grouped = stmt_joined.group_by(state_fact.columns.name)\n",
    "\n",
    "# Execute the statement and get the results: results\n",
    "results = connection.execute(stmt_grouped).fetchall()\n",
    "\n",
    "# Loop over the results object and print each record.\n",
    "for record in results:\n",
    "    print(record)\n"
   ]
  },
  {
   "cell_type": "markdown",
   "id": "86102e99-2b0c-4a7f-bf5c-0027cc9a9b09",
   "metadata": {},
   "source": []
  },
  {
   "cell_type": "markdown",
   "id": "c9fe560e-8f49-4576-ba04-af891bc21cc7",
   "metadata": {},
   "source": []
  },
  {
   "cell_type": "code",
   "execution_count": null,
   "id": "206d4730-eb11-4ee5-bb1b-e217343d7c9f",
   "metadata": {},
   "outputs": [],
   "source": [
    "# Make an alias of the employees table: managers\n",
    "managers = employees.alias()\n",
    "\n",
    "# Build a query to select names of managers and their employees: stmt\n",
    "stmt = select(\n",
    "    [managers.columns.name.label('manager'),\n",
    "     employees.columns.name.label('employee')]\n",
    ")\n",
    "\n",
    "# Match managers id with employees mgr: stmt_matched\n",
    "stmt_matched = stmt.where(managers.columns.id == employees.columns.mgr)\n",
    "\n",
    "# Order the statement by the managers name: stmt_ordered\n",
    "stmt_ordered = stmt_matched.order_by(managers.columns.name)\n",
    "\n",
    "# Execute statement: results\n",
    "results = connection.execute(stmt_ordered).fetchall()\n",
    "\n",
    "# Print records\n",
    "for record in results:\n",
    "    print(record)\n",
    "\n"
   ]
  },
  {
   "cell_type": "markdown",
   "id": "257f4b49-432d-4c8a-914e-324650742977",
   "metadata": {},
   "source": [
    "# Leveraging functions and group_bys with hierarchical data"
   ]
  },
  {
   "cell_type": "markdown",
   "id": "c9368306-5b21-4c45-a4f8-5e2201a40b1b",
   "metadata": {},
   "source": [
    "It's also common to want to roll up data which is in a hierarchical table. Rolling up data requires making sure you're careful which alias you use to perform the group_bys and which table you use for the function.\n",
    "\n",
    "Here, your job is to get a count of employees for each manager.\n",
    "\n",
    "Instructions\n",
    "100 XP\n",
    "Save an alias of the employees table as managers.\n",
    "Build a query to select the name column of the managers table and the count of the number of their employees. The function func.count() has been imported and will be useful! Use it to count the id column of the employees table.\n",
    "Using a .where() clause, filter the records where the id column of the managers table and mgr column of the employees table are equal.\n",
    "Group the query by the name column of the managers table.\n",
    "Execute the statement and store all the results. Print the names of the managers and their employees. This code has already been written so submit the answer and check out the results!"
   ]
  },
  {
   "cell_type": "code",
   "execution_count": null,
   "id": "7cb6e9cb-7bed-4478-9303-8cb604dbcfbf",
   "metadata": {},
   "outputs": [],
   "source": [
    "# Make an alias of the employees table: managers\n",
    "managers = employees.alias()\n",
    "\n",
    "# Build a query to select names of managers and counts of their employees: stmt\n",
    "stmt = select([managers.columns.name, func.count(employees.columns.id)])\n",
    "\n",
    "# Append a where clause that ensures the manager id and employee mgr are equal\n",
    "stmt_matched = stmt.where(managers.columns.id == employees.columns.mgr)\n",
    "\n",
    "# Group by Managers Name\n",
    "stmt_grouped = stmt_matched.group_by(managers.columns.name)\n",
    "\n",
    "# Execute statement: results\n",
    "results = connection.execute(stmt_grouped).fetchall()\n",
    "\n",
    "# print manager\n",
    "for record in results:\n",
    "    print(record)\n",
    "\n"
   ]
  },
  {
   "cell_type": "markdown",
   "id": "77bad611-0b58-49d8-a230-f7dc9c398312",
   "metadata": {},
   "source": [
    "# Handling of large resultsets"
   ]
  },
  {
   "cell_type": "markdown",
   "id": "bbf5e47f-250a-4697-a1b3-1454ebb6cd47",
   "metadata": {},
   "source": []
  },
  {
   "cell_type": "code",
   "execution_count": null,
   "id": "2952f814-4276-4005-bba9-aef1995419a0",
   "metadata": {},
   "outputs": [],
   "source": []
  },
  {
   "cell_type": "markdown",
   "id": "1d03ac86-32cc-4dff-98e5-c16fb481e16f",
   "metadata": {},
   "source": [
    "# Working on blocks of records"
   ]
  },
  {
   "cell_type": "markdown",
   "id": "a3116482-d16e-422c-b350-11933ba4ef24",
   "metadata": {},
   "source": [
    "Fantastic work so far! As Jason discussed in the video, sometimes you may have the need to work on a large ResultProxy, and you may not have the memory to load all the results at once. To work around that issue, you can get blocks of rows from the ResultProxy by using the .fetchmany() method inside a loop. With .fetchmany(), give it an argument of the number of records you want. When you reach an empty list, there are no more rows left to fetch, and you have processed all the results of the query. Then you need to use the .close() method to close out the connection to the database.\n",
    "\n",
    "You'll now have the chance to practice this on a large ResultProxy called results_proxy that has been pre-loaded for you to work with.\n",
    "\n",
    "Instructions\n",
    "100 XP\n",
    "Use a while loop that checks if there are more_results.\n",
    "Inside the loop, apply the method .fetchmany() to results_proxy to get 50 records at a time and store those records as partial_results.\n",
    "After fetching the records, if partial_results is an empty list (that is, if it is equal to []), set more_results to False.\n",
    "Loop over the partial_results and, if row.state is a key in the state_count dictionary, increment state_count[row.state] by 1; otherwise set state_count[row.state] to 1.\n",
    "After the while loop, close the ResultProxy results_proxy using .close().\n",
    "Submit the answer to print state_count."
   ]
  },
  {
   "cell_type": "code",
   "execution_count": null,
   "id": "37434395-96e3-4af8-8e21-c974aa23ddb4",
   "metadata": {},
   "outputs": [],
   "source": [
    "# Start a while loop checking for more results\n",
    "while more_results:\n",
    "    # Fetch the first 50 results from the ResultProxy: partial_results\n",
    "    partial_results = results_proxy.fetchmany(50)\n",
    "\n",
    "    # if empty list, set more_results to False\n",
    "    if partial_results == []:\n",
    "        more_results = False\n",
    "\n",
    "    # Loop over the fetched records and increment the count for the state\n",
    "    for row in partial_results:\n",
    "        if row.state in state_count:\n",
    "            state_count[row.state] += 1\n",
    "        else:\n",
    "            state_count[row.state] = 1\n",
    "\n",
    "# Close the ResultProxy, and thus the connection\n",
    "results_proxy.close()\n",
    "\n",
    "# Print the count by state\n",
    "print(state_count)"
   ]
  },
  {
   "cell_type": "markdown",
   "id": "9d35351d-2ef9-42f6-9de6-41a9cbb5c181",
   "metadata": {},
   "source": []
  },
  {
   "cell_type": "markdown",
   "id": "f1282fa7-a464-4c1a-925f-384a98024ca2",
   "metadata": {},
   "source": [
    "# Creating tables with SQLAlchemy"
   ]
  },
  {
   "cell_type": "markdown",
   "id": "a03048ae-58da-487f-b3d7-77c3d3647e76",
   "metadata": {},
   "source": [
    "Previously, you used the Table object to reflect a table from an existing database, but what if you wanted to create a new table? You'd still use the Table object; however, you'd need to replace the autoload and autoload_with parameters with Column objects.\n",
    "\n",
    "The Column object takes a name, a SQLAlchemy type with an optional format, and optional keyword arguments for different constraints.\n",
    "\n",
    "When defining the table, recall how in the video Jason passed in 255 as the maximum length of a String by using Column('name', String(255)). Checking out the slides from the video may help.\n",
    "\n",
    "After defining the table, you can create the table in the database by using the .create_all() method on metadata and supplying the engine as the only parameter. Go for it!\n",
    "\n",
    "Instructions\n",
    "100 XP\n",
    "Import Table, Column, String, Integer, Float, Boolean from sqlalchemy.\n",
    "Build a new table called data with columns 'name' (String(255)), 'count' (Integer()), 'amount'(Float()), and 'valid' (Boolean()) columns. The second argument of Table() needs to be metadata, which has already been initialized.\n",
    "Create the table in the database by passing engine to metadata.create_all()."
   ]
  },
  {
   "cell_type": "code",
   "execution_count": null,
   "id": "8a052274-316d-426f-9fe9-549a2b2b6cf9",
   "metadata": {},
   "outputs": [],
   "source": [
    "# Import Table, Column, String, Integer, Float, Boolean from sqlalchemy\n",
    "from sqlalchemy import Table, Column, String, Integer, Float, Boolean\n",
    "\n",
    "# Define a new table with a name, count, amount, and valid column: data\n",
    "data = Table('data', metadata,\n",
    "             Column('name', String(255)),\n",
    "             Column('count', Integer()),\n",
    "             Column('amount', Float()),\n",
    "             Column('valid', Boolean())\n",
    ")\n",
    "\n",
    "# Use the metadata to create the table\n",
    "metadata.create_all(engine)\n",
    "\n",
    "# Print table details\n",
    "print(repr(data))\n"
   ]
  },
  {
   "cell_type": "markdown",
   "id": "181ce593-6839-4294-8fef-a61de50d5ca5",
   "metadata": {},
   "source": [
    "# Constraints and data defaults"
   ]
  },
  {
   "cell_type": "markdown",
   "id": "4df4f56f-1df7-4858-9903-bef2cc6211f7",
   "metadata": {},
   "source": [
    "You're now going to practice creating a table with some constraints! Often, you'll need to make sure that a column is unique, nullable, a positive value, or related to a column in another table. This is where constraints come in.\n",
    "\n",
    "As Jason showed you in the video, in addition to constraints, you can also set a default value for the column if no data is passed to it via the default keyword on the column.\n",
    "\n",
    "Instructions\n",
    "100 XP\n",
    "Table, Column, String, Integer, Float, Boolean are already imported from sqlalchemy.\n",
    "Build a new table called data with a unique name (String), count (Integer) defaulted to 1, amount (Float), and valid (Boolean) defaulted to False.\n",
    "Submit the answer to create the table in the database and to print the table details for data."
   ]
  },
  {
   "cell_type": "code",
   "execution_count": null,
   "id": "f3f18bf9-141e-462c-8532-e3c83dff86b7",
   "metadata": {},
   "outputs": [],
   "source": [
    "# Import Table, Column, String, Integer, Float, Boolean from sqlalchemy\n",
    "from sqlalchemy import Table, Column, String, Integer, Float, Boolean\n",
    "\n",
    "# Define a new table with a name, count, amount, and valid column: data\n",
    "data = Table('data', metadata,\n",
    "             Column('name', String(255), unique=True),\n",
    "             Column('count', Integer(), default=1),\n",
    "             Column('amount', Float()),\n",
    "             Column('valid', Boolean(), default=False)\n",
    ")\n",
    "\n",
    "# Use the metadata to create the table\n",
    "metadata.create_all(engine)\n",
    "\n",
    "# Print the table details\n",
    "print(repr(metadata.tables['data']))\n"
   ]
  },
  {
   "cell_type": "markdown",
   "id": "ee1d4551-e9cf-49e4-9a78-251bd5911854",
   "metadata": {},
   "source": [
    "# Inserting a single row"
   ]
  },
  {
   "cell_type": "markdown",
   "id": "6e3818c6-9d8b-4629-ba43-941e067e4583",
   "metadata": {},
   "source": [
    "There are several ways to perform an insert with SQLAlchemy; however, we are going to focus on the one that follows the same pattern as the select statement.\n",
    "\n",
    "It uses an insert statement where you specify the table as an argument, and supply the data you wish to insert into the value via the .values() method as keyword arguments. For example, if my_table contains columns my_col_1 and my_col_2, then insert(my_table).values(my_col_1=5, my_col_2=\"Example\") will create a row in my_table with the value in my_col_1 equal to 5 and value in my_col_2 equal to \"Example\".\n",
    "\n",
    "Notice the difference in syntax: when appending a where statement to an existing statement, we include the name of the table as well as the name of the column, for example new_stmt = old_stmt.where(my_tbl.columns.my_col == 15). This is necessary because the existing statement might involve several tables.\n",
    "\n",
    "On the other hand, you can only insert a record into a single table, so you do not need to include the name of the table when using values() to insert, e.g. stmt = insert(my_table).values(my_col = 10).\n",
    "\n",
    "Here, the name of the table is data. You can run repr(data) in the console to examine the structure of the table.\n",
    "\n",
    "Instructions\n",
    "100 XP\n",
    "Import insert and select from the sqlalchemy module.\n",
    "Build an insert statement insert_stmt for the data table to set name to 'Anna', count to 1, amount to 1000.00, and valid to True.\n",
    "Execute insert_stmt with the connection and store the results.\n",
    "Print the .rowcount attribute of results to see how many records were inserted.\n",
    "Build a select statement to query data for the record with the name of 'Anna'.\n",
    "Run the solution to print the results of executing the select statement."
   ]
  },
  {
   "cell_type": "code",
   "execution_count": null,
   "id": "c58a1612-4588-4725-a0ce-d671dc52b1dd",
   "metadata": {},
   "outputs": [],
   "source": [
    "# Import insert and select from sqlalchemy\n",
    "from sqlalchemy import insert, select\n",
    "\n",
    "# Build an insert statement to insert a record into the data table: insert_stmt\n",
    "insert_stmt = insert(data).values(name='Anna', count=1, amount=1000.00, valid=True)\n",
    "\n",
    "# Execute the insert statement via the connection: results\n",
    "results = connection.execute(insert_stmt)\n",
    "\n",
    "# Print result rowcount\n",
    "print(results.rowcount)\n",
    "\n",
    "# Build a select statement to validate the insert: select_stmt\n",
    "select_stmt = select([data]).where(data.columns.name == 'Anna')\n",
    "\n",
    "# Print the result of executing the query.\n",
    "print(connection.execute(select_stmt).first())\n"
   ]
  },
  {
   "cell_type": "markdown",
   "id": "4a178d82-6f63-4bf0-965c-c93d7fa781f1",
   "metadata": {},
   "source": [
    "# Inserting multiple records at once"
   ]
  },
  {
   "cell_type": "markdown",
   "id": "69850e4e-32ac-4395-b353-22b6c8fd414d",
   "metadata": {},
   "source": [
    "It's time to practice inserting multiple records at once!\n",
    "\n",
    "As Jason showed you in the video, when inserting multiple records at once, you do not use the .values() method. Instead, you'll want to first build a list of dictionaries that represents the data you want to insert, with keys being the names of the columns. in the .execute() method, you can pair this list of dictionaries with an insert statement, which will insert all the records in your list of dictionaries.\n",
    "\n",
    "Instructions\n",
    "100 XP\n",
    "Build a list of dictionaries called values_list with two dictionaries. In the first dictionary set name to 'Anna', count to 1, amount to 1000.00, and valid to True. In the second dictionary of the list, set name to 'Taylor', count to 1, amount to 750.00, and valid to False.\n",
    "Build an insert statement for the data table for a multiple insert, save it as stmt.\n",
    "Execute stmt with the values_list via connection and store the results. Make sure values_list is the second argument to .execute().\n",
    "Print the rowcount of the results."
   ]
  },
  {
   "cell_type": "code",
   "execution_count": null,
   "id": "8d91fb73-9bdf-470a-9d94-8f36c3b3f79c",
   "metadata": {},
   "outputs": [],
   "source": [
    "# Build a list of dictionaries: values_list\n",
    "values_list = [\n",
    "    {'name': 'Anna', 'count': 1, 'amount': 1000.00, 'valid': True},\n",
    "     {'name': 'Taylor', 'count': 1, 'amount': 750.00, 'valid': False}\n",
    "]\n",
    "\n",
    "# Build an insert statement for the data table: stmt\n",
    "stmt = insert(data)\n",
    "\n",
    "# Execute stmt with the values_list: results\n",
    "results = connection.execute(stmt, values_list)\n",
    "\n",
    "# Print rowcount\n",
    "print(results.rowcount)\n"
   ]
  },
  {
   "cell_type": "markdown",
   "id": "988f55d5-9eed-44d5-9efd-7b21d9a9ef4a",
   "metadata": {},
   "source": [
    "# Loading a CSV into a table"
   ]
  },
  {
   "cell_type": "markdown",
   "id": "595b432f-4265-46f4-a2b5-fad334ee33df",
   "metadata": {},
   "source": [
    "You've done a great job so far at inserting data into tables! You're now going to learn how to load the contents of a CSV file into a table.\n",
    "\n",
    "One way to do that would be to read a CSV file line by line, create a dictionary from each line, and then use insert(), like you did in the previous exercise.\n",
    "\n",
    "But there is a faster way using pandas. You can read a CSV file into a DataFrame using the read_csv() function (this function should be familiar to you, but you can run help(pd.read_csv) in the console to refresh your memory!). Then, you can call the .to_sql() (docs) method on the DataFrame to load it into a SQL table in a database. The columns of the DataFrame should match the columns of the SQL table.\n",
    "\n",
    ".to_sql() has many parameters, but in this exercise we will use the following:\n",
    "\n",
    "name is the name of the SQL table (as a string).\n",
    "con is the connection to the database that you will use to upload the data.\n",
    "if_exists specifies how to behave if the table already exists in the database; possible values are \"fail\", \"replace\", and \"append\".\n",
    "index (True or False) specifies whether to write the DataFrame's index as a column.\n",
    "In this exercise, you will upload the data contained in the census.csv file into an existing table \"census\". The connection to the database has already been created for you.\n",
    "\n",
    "Instructions 1/2\n",
    "50 XP\n",
    "1\n",
    "2\n",
    "Use pd.read_csv() to load the \"census.csv\" file into a DataFrame. Set the header parameter to None since the file doesn't have a header row.\n",
    "Rename the columns of census_df to \"state\", \"sex\", age, \"pop2000\", and \"pop2008\" to match the columns of the \"census\" table in the database."
   ]
  },
  {
   "cell_type": "code",
   "execution_count": null,
   "id": "3fb85e1b-b60c-4c25-b0a2-8e04ac9c308c",
   "metadata": {},
   "outputs": [],
   "source": [
    "# import pandas\n",
    "import pandas as pd\n",
    "\n",
    "# read census.csv into a DataFrame : census_df\n",
    "census_df = pd.read_csv('census.csv', header=None)\n",
    "\n",
    "# rename the columns of the census DataFrame\n",
    "census_df.columns = ['state', 'sex', 'age', 'pop2000', 'pop2008']"
   ]
  },
  {
   "cell_type": "markdown",
   "id": "f5937b70-15a6-4231-b309-1ad3d0081edb",
   "metadata": {},
   "source": [
    "# Loading a CSV into a table"
   ]
  },
  {
   "cell_type": "markdown",
   "id": "b3cfdd56-1186-40ad-a6f2-7d20a9d90b1a",
   "metadata": {},
   "source": [
    "You've done a great job so far at inserting data into tables! You're now going to learn how to load the contents of a CSV file into a table.\n",
    "\n",
    "One way to do that would be to read a CSV file line by line, create a dictionary from each line, and then use insert(), like you did in the previous exercise.\n",
    "\n",
    "But there is a faster way using pandas. You can read a CSV file into a DataFrame using the read_csv() function (this function should be familiar to you, but you can run help(pd.read_csv) in the console to refresh your memory!). Then, you can call the .to_sql() (docs) method on the DataFrame to load it into a SQL table in a database. The columns of the DataFrame should match the columns of the SQL table.\n",
    "\n",
    ".to_sql() has many parameters, but in this exercise we will use the following:\n",
    "\n",
    "name is the name of the SQL table (as a string).\n",
    "con is the connection to the database that you will use to upload the data.\n",
    "if_exists specifies how to behave if the table already exists in the database; possible values are \"fail\", \"replace\", and \"append\".\n",
    "index (True or False) specifies whether to write the DataFrame's index as a column.\n",
    "In this exercise, you will upload the data contained in the census.csv file into an existing table \"census\". The connection to the database has already been created for you.\n",
    "\n",
    "Instructions 2/2\n",
    "50 XP\n",
    "2\n",
    "Use the .to_sql() method on census_df to append the data to the \"census\" table in the database using the connection.\n",
    "\n",
    "Since \"census\" already exists in the database, you will need to specify an appropriate value for the if_exists parameter."
   ]
  },
  {
   "cell_type": "code",
   "execution_count": null,
   "id": "a038803b-0bb4-4b9b-967d-9908415cba60",
   "metadata": {},
   "outputs": [],
   "source": [
    "# import pandas\n",
    "import pandas as pd\n",
    "\n",
    "# read census.csv into a DataFrame : census_df\n",
    "census_df = pd.read_csv(\"census.csv\", header=None)\n",
    "\n",
    "# rename the columns of the census DataFrame\n",
    "census_df.columns = ['state', 'sex', 'age', 'pop2000', 'pop2008']\n",
    "\n",
    "# append the data from census_df to the \"census\" table via connection\n",
    "census_df.to_sql(name='census', con=connection, if_exists='append', index=False)"
   ]
  },
  {
   "cell_type": "markdown",
   "id": "12f704fd-668a-4410-b893-151d69680bfa",
   "metadata": {},
   "source": [
    "# Updating individual records"
   ]
  },
  {
   "cell_type": "markdown",
   "id": "23a1fbbd-c5c4-4c90-9e53-47961f83153f",
   "metadata": {},
   "source": [
    "The update statement is very similar to an insert statement. For example, you can update all wages in the employees table as follows:\n",
    "\n",
    "stmt = update(employees).values(wage=100.00)\n",
    "The update statement also typically uses a where clause to help us determine what data to update. For example, to only update the record for the employee with ID 15, you would append the previous statement as follows:\n",
    "\n",
    "stmt = stmt.where(employees.id == 15)\n",
    "You'll be using the FIPS state code here, which is appropriated by the U.S. government to identify U.S. states and certain other associated areas.\n",
    "\n",
    "For your convenience, the names of the tables and columns of interest in this exercise are: state_fact (Table), name (Column), and fips_state (Column).\n",
    "\n",
    "Instructions 1/3\n",
    "Build a statement to select all columns from the state_fact table where the value in the name column is 'New York'. Call it select_stmt.\n",
    "Fetch all the results and assign them to results.\n",
    "Print the results and the fips_state column of the first row of the results."
   ]
  },
  {
   "cell_type": "code",
   "execution_count": null,
   "id": "5b8c29f5-2af2-47e6-b534-4604ba820850",
   "metadata": {},
   "outputs": [],
   "source": [
    "# Build a select statement: select_stmt\n",
    "select_stmt = select([state_fact]).where(state_fact.columns.name == 'New York')\n",
    "\n",
    "# Execute select_stmt and fetch the results\n",
    "results = connection.execute(select_stmt).fetchall()\n",
    "\n",
    "# Print the results of executing the select_stmt\n",
    "print(results)\n",
    "\n",
    "# Print the FIPS code for the first row of the result\n",
    "print(results[0]['fips_state'])"
   ]
  },
  {
   "cell_type": "markdown",
   "id": "ffb0b9b3-b433-4581-9ec9-7bf42dbe2f66",
   "metadata": {},
   "source": [
    "# Updating individual records"
   ]
  },
  {
   "cell_type": "markdown",
   "id": "f2e1afa7-e6d2-4a57-b6f4-efbe2cd7a677",
   "metadata": {},
   "source": [
    "The update statement is very similar to an insert statement. For example, you can update all wages in the employees table as follows:\n",
    "\n",
    "stmt = update(employees).values(wage=100.00)\n",
    "The update statement also typically uses a where clause to help us determine what data to update. For example, to only update the record for the employee with ID 15, you would append the previous statement as follows:\n",
    "\n",
    "stmt = stmt.where(employees.id == 15)\n",
    "You'll be using the FIPS state code here, which is appropriated by the U.S. government to identify U.S. states and certain other associated areas.\n",
    "\n",
    "For your convenience, the names of the tables and columns of interest in this exercise are: state_fact (Table), name (Column), and fips_state (Column).\n",
    "\n",
    "Instructions 2/3\n",
    "35 XP\n",
    "2\n",
    "3\n",
    "Notice that there is only one record in state_fact for the state of New York. It currently has the FIPS code of 0.\n",
    "\n",
    "Build an update statement to change the fips_state column code to 36, save it as update_stmt.\n",
    "Use a where clause to filter for states with the name of 'New York' in the state_fact table.\n",
    "Execute update_stmt via the connection and save the output as update_results."
   ]
  },
  {
   "cell_type": "code",
   "execution_count": null,
   "id": "1c146e05-8916-45c2-9820-6a9ac1cf05ba",
   "metadata": {},
   "outputs": [],
   "source": [
    "select_stmt = select([state_fact]).where(state_fact.columns.name == 'New York')\n",
    "results = connection.execute(select_stmt).fetchall()\n",
    "print(results)\n",
    "print(results[0]['fips_state'])\n",
    "\n",
    "# Build a statement to update the fips_state to 36: update_stmt\n",
    "update_stmt = update(state_fact).values(fips_state = 36)\n",
    "\n",
    "# Append a where clause to limit it to records for New York state\n",
    "update_stmt = update_stmt.where(state_fact.columns.name == 'New York')\n",
    "\n",
    "# Execute the statement: update_results\n",
    "update_results = connection.execute(update_stmt)"
   ]
  },
  {
   "cell_type": "markdown",
   "id": "0336658e-2ff6-413e-9884-7b10846f2b89",
   "metadata": {},
   "source": [
    "Now you will confirm that the record for New York was updated by selecting all the records for New York from state_fact and repeating what you did in Step 1.\n",
    "\n",
    "Execute select_stmt again, fetch all the results, and assign them to new_results. Print the new_results and the fips_state column of the first row of the new_results."
   ]
  },
  {
   "cell_type": "code",
   "execution_count": null,
   "id": "7cda28cc-ebbb-4554-b687-85a3be5eb476",
   "metadata": {},
   "outputs": [],
   "source": [
    "select_stmt = select([state_fact]).where(state_fact.columns.name == 'New York')\n",
    "results = connection.execute(select_stmt).fetchall()\n",
    "print(results)\n",
    "print(results[0]['fips_state'])\n",
    "\n",
    "update_stmt = update(state_fact).values(fips_state = 36)\n",
    "update_stmt = update_stmt.where(state_fact.columns.name == 'New York')\n",
    "update_results = connection.execute(update_stmt)\n",
    "\n",
    "# Execute select_stmt again and fetch the new results\n",
    "new_results = connection.execute(select_stmt).fetchall()\n",
    "\n",
    "# Print the new_results\n",
    "print(new_results)\n",
    "\n",
    "# Print the FIPS code for the first row of the new_results\n",
    "print(new_results[0]['fips_state'])"
   ]
  },
  {
   "cell_type": "markdown",
   "id": "076b5019-8281-437a-b9fa-a556a5f589e3",
   "metadata": {},
   "source": [
    "# Updating multiple records"
   ]
  },
  {
   "cell_type": "markdown",
   "id": "2342f2fa-0d52-41cf-92f1-40fe013ae3c8",
   "metadata": {},
   "source": [
    "As Jason discussed in the video, by using a where clause that selects more records, you can update multiple records at once. Unlike inserting, updating multiple records works exactly the same way as updating a single record (as long as you are updating them with the same value). It's time now to practice this!\n",
    "\n",
    "For your convenience, the names of the tables and columns of interest in this exercise are: state_fact (Table), notes (Column), and census_region_name (Column).\n",
    "\n",
    "Instructions\n",
    "100 XP\n",
    "Build an update statement to update the notes column in the state_fact table to 'The Wild West'. Save it as stmt.\n",
    "Use a where clause to filter for records that have 'West' in the census_region_name column of the state_fact table.\n",
    "Execute stmt_west via the connection and save the output as results.\n",
    "Run the solution to print rowcount of the results."
   ]
  },
  {
   "cell_type": "code",
   "execution_count": null,
   "id": "f14ace32-bb38-4061-b511-702f5e78d75a",
   "metadata": {},
   "outputs": [],
   "source": [
    "# Build a statement to update the notes to 'The Wild West': stmt\n",
    "stmt = update(state_fact).values(notes='The Wild West')\n",
    "\n",
    "# Append a where clause to match the West census region records: stmt_west\n",
    "stmt_west = stmt.where(state_fact.columns.census_region_name == 'West')\n",
    "\n",
    "# Execute the statement: results\n",
    "results = connection.execute(stmt_west)\n",
    "\n",
    "# Print rowcount\n",
    "print(results.rowcount)\n"
   ]
  },
  {
   "cell_type": "markdown",
   "id": "078cfa01-8d2e-42ba-9b0f-d4dd83d8504f",
   "metadata": {},
   "source": [
    "# Correlated updates"
   ]
  },
  {
   "cell_type": "markdown",
   "id": "91ebd6c9-5ebf-425d-8e0a-74558ca26cf4",
   "metadata": {},
   "source": [
    "You can also update records with data from a select statement. This is called a correlated update. It works by defining a select statement that returns the value you want to update the record with and assigning that select statement as the value in update.\n",
    "\n",
    "You'll be using a flat_census in this exercise as the target of your correlated update. The flat_census table is a summarized copy of your census table, and contains, in particular, the fips_state columns.\n",
    "\n",
    "Instructions\n",
    "100 XP\n",
    "Build a statement to select the name column from state_fact. Save the statement as fips_stmt.\n",
    "Append a where clause to fips_stmt that matches fips_state from the state_fact table with fips_code in the flat_census table.\n",
    "Build an update statement to set the state_name in flat_census to fips_stmt. Save the statement as update_stmt.\n",
    "Submit the answer to execute update_stmt, store the results and print the rowcount of results."
   ]
  },
  {
   "cell_type": "code",
   "execution_count": null,
   "id": "6be5c30e-90f9-4450-9fb8-ceb35a3f4e06",
   "metadata": {},
   "outputs": [],
   "source": [
    "# Build a statement to select name from state_fact: fips_stmt\n",
    "fips_stmt = select([state_fact.columns.name])\n",
    "\n",
    "# Append a where clause to match the fips_state to flat_census fips_code: fips_stmt\n",
    "fips_stmt = fips_stmt.where(\n",
    "    state_fact.columns.fips_state == flat_census.columns.fips_code)\n",
    "\n",
    "# Build an update statement to set the name to fips_stmt_where: update_stmt\n",
    "update_stmt = update(flat_census).values(state_name=fips_stmt)\n",
    "\n",
    "# Execute update_stmt: results\n",
    "results = connection.execute(update_stmt)\n",
    "\n",
    "# Print rowcount\n",
    "print(results.rowcount)\n"
   ]
  },
  {
   "cell_type": "markdown",
   "id": "628a21ba-2f3d-4ca1-9cf6-dc8ed183bd92",
   "metadata": {},
   "source": [
    "# Deleting all the records from a table"
   ]
  },
  {
   "cell_type": "markdown",
   "id": "e12355d3-dd3c-44d7-a02c-a6de9b3a34e5",
   "metadata": {},
   "source": [
    "Often, you'll need to empty a table of all of its records so you can reload the data. You can do this with a delete statement with just the table as an argument. For example, in the video, Jason deleted the table extra_employees by executing as follows:\n",
    "\n",
    "delete_stmt = delete(extra_employees)\n",
    "result_proxy = connection.execute(delete_stmt)\n",
    "Do be careful, though, as deleting cannot be undone!\n",
    "\n",
    "Instructions\n",
    "100 XP\n",
    "Import delete and select from sqlalchemy.\n",
    "Build a delete statement to remove all the data from the census table. Save it as delete_stmt.\n",
    "Execute delete_stmt via the connection and save the results.\n",
    "Submit the answer to select all remaining rows from the census table and print the result to confirm that the table is now empty!\n",
    "\n"
   ]
  },
  {
   "cell_type": "code",
   "execution_count": null,
   "id": "2bbc2673-fc8f-4ea0-8bcb-badc6fefb645",
   "metadata": {},
   "outputs": [],
   "source": [
    "# Import delete, select\n",
    "from sqlalchemy import delete, select\n",
    "\n",
    "# Build a statement to empty the census table: stmt\n",
    "delete_stmt = delete(census)\n",
    "\n",
    "# Execute the statement: results\n",
    "results = connection.execute(delete_stmt)\n",
    "\n",
    "# Print affected rowcount\n",
    "print(results.rowcount)\n",
    "\n",
    "# Build a statement to select all records from the census table : select_stmt\n",
    "select_stmt = select([census])\n",
    "\n",
    "# Print the results of executing the statement to verify there are no rows\n",
    "print(connection.execute(select_stmt).fetchall())\n"
   ]
  },
  {
   "cell_type": "markdown",
   "id": "99b63bb0-69d6-46e4-973a-ef685fb2c150",
   "metadata": {},
   "source": [
    "# Deleting specific records"
   ]
  },
  {
   "cell_type": "markdown",
   "id": "53c9d8fc-144e-4d42-b23c-363cb7900ce7",
   "metadata": {},
   "source": [
    "By using a where() clause, you can target the delete statement to remove only certain records. For example, Jason deleted all rows from the employees table that had id 3 with the following delete statement:\n",
    "\n",
    "delete(employees).where(employees.columns.id == 3) \n",
    "Here you'll delete ALL rows which have 'M' in the sex column and 36 in the age column. We have included code at the start which computes the total number of these rows. It is important to make sure that this is the number of rows that you actually delete.\n",
    "\n",
    "Instructions\n",
    "100 XP\n",
    "Build a delete statement to remove data from the census table. Save it as delete_stmt.\n",
    "Append a where clause to delete_stmt that contains an and_ to filter for rows which have 'M' in the sex column AND 36 in the age column.\n",
    "Execute the delete statement.\n",
    "Submit the answer to print the rowcount of the results, as well as to_delete, which returns the number of rows that should be deleted. These should match and this is an important sanity check!\n",
    "\n"
   ]
  },
  {
   "cell_type": "code",
   "execution_count": null,
   "id": "68612418-e74d-45d4-9dce-913699d69f9a",
   "metadata": {},
   "outputs": [],
   "source": [
    "# Build a statement to count records using the sex column for Men ('M') age 36: count_stmt\n",
    "count_stmt = select([func.count(census.columns.sex)]).where(\n",
    "    and_(census.columns.sex == 'M',\n",
    "         census.columns.age == 36)\n",
    ")\n",
    "\n",
    "# Execute the select statement and use the scalar() fetch method to save the record count\n",
    "to_delete = connection.execute(count_stmt).scalar()\n",
    "\n",
    "# Build a statement to delete records from the census table: delete_stmt\n",
    "delete_stmt = delete(census)\n",
    "\n",
    "# Append a where clause to target Men ('M') age 36: delete_stmt\n",
    "delete_stmt = delete_stmt.where(\n",
    "    and_(census.columns.sex == 'M',\n",
    "         census.columns.age == 36)\n",
    ")\n",
    "\n",
    "# Execute the statement: results\n",
    "results = connection.execute(delete_stmt)\n",
    "\n",
    "# Print affected rowcount and to_delete record count, make sure they match\n",
    "print(results.rowcount, to_delete)\n"
   ]
  },
  {
   "cell_type": "markdown",
   "id": "5e66ec29-5a51-4322-92ef-875f106827f2",
   "metadata": {},
   "source": [
    "# Deleting a table completely"
   ]
  },
  {
   "cell_type": "markdown",
   "id": "5376c4b0-3b4e-4739-abbe-4201b1bab807",
   "metadata": {},
   "source": [
    "You're now going to practice dropping individual tables from a database with the .drop() method, as well as all tables in a database with the .drop_all() method!\n",
    "\n",
    "As Spider-Man's Uncle Ben (as well as Jason, in the video!) said: With great power, comes great responsibility. Do be careful when deleting tables, as it's not simple or fast to restore large databases! Remember, you can check to see if a table exists on an engine with the .exists(engine) method.\n",
    "\n",
    "This is the final exercise in this chapter: After this, you'll be ready to apply everything you've learned to a case study in the final chapter of this course!\n",
    "\n",
    "Instructions\n",
    "100 XP\n",
    "Drop the state_fact table by applying the method .drop() to it and passing it the argument engine (in fact, engine will be the sole argument for every function/method in this exercise!)\n",
    "Check to see if state_fact exists via print. Use the .exists() method with engine as the argument.\n",
    "Drop all the tables via the metadata using the .drop_all() method.\n",
    "Use a print statement to check if the census table exists."
   ]
  },
  {
   "cell_type": "code",
   "execution_count": null,
   "id": "819eae0c-0768-471f-808f-9b4aff30bdff",
   "metadata": {},
   "outputs": [],
   "source": [
    "# Drop the state_fact table\n",
    "state_fact.drop(engine)\n",
    "\n",
    "# Check to see if state_fact exists\n",
    "print(state_fact.exists(engine))\n",
    "\n",
    "# Drop all tables\n",
    "metadata.drop_all(engine)\n",
    "\n",
    "# Check to see if census exists\n",
    "print(census.exists(engine))\n"
   ]
  },
  {
   "cell_type": "markdown",
   "id": "5daa6ee3-999d-47d1-8459-165d4c00a992",
   "metadata": {},
   "source": [
    "# Setup the engine and metadata"
   ]
  },
  {
   "cell_type": "markdown",
   "id": "3c6afb25-4aa2-4b31-a609-3376bc6722b2",
   "metadata": {},
   "source": [
    "In this exercise, your job is to create an engine to the database that will be used in this chapter. Then, you need to initialize its metadata.\n",
    "\n",
    "Recall how you did this in Chapter 1 by leveraging create_engine() and MetaData().\n",
    "\n",
    "Instructions\n",
    "100 XP\n",
    "Import create_engine and MetaData from sqlalchemy.\n",
    "Create an engine to the chapter 5 database by using 'sqlite:///chapter5.sqlite' as the connection string.\n",
    "Create a MetaData object as metadata."
   ]
  },
  {
   "cell_type": "code",
   "execution_count": null,
   "id": "2f5a1af8-2f89-4227-aa4a-11124d773a51",
   "metadata": {},
   "outputs": [],
   "source": [
    "# Import create_engine, MetaData\n",
    "from sqlalchemy import create_engine, MetaData\n",
    "\n",
    "# Define an engine to connect to chapter5.sqlite: engine\n",
    "engine = create_engine('sqlite:///chapter5.sqlite')\n",
    "\n",
    "# Initialize MetaData: metadata\n",
    "metadata = MetaData()\n"
   ]
  },
  {
   "cell_type": "markdown",
   "id": "1a187b03-aaba-4b00-b747-f47534be4ce9",
   "metadata": {},
   "source": [
    "# Create the table to the database"
   ]
  },
  {
   "cell_type": "markdown",
   "id": "bb4fb0d9-3bd8-425f-a7c3-d75cb9ab334f",
   "metadata": {},
   "source": [
    "Having setup the engine and initialized the metadata, you will now define the census table object and then create it in the database using the metadata and engine from the previous exercise. To create it in the database, you will have to use the .create_all() method on the metadata with engine as the argument.\n",
    "\n",
    "It may help to refer back to the Chapter 4 exercise in which you learned how to create a table.\n",
    "\n",
    "Instructions\n",
    "100 XP\n",
    "Instructions\n",
    "100 XP\n",
    "Import Table, Column, String, and Integer from sqlalchemy.\n",
    "Define a census table with the following columns:\n",
    "'state' - String - length of 30\n",
    "'sex' - String - length of 1\n",
    "'age' - Integer\n",
    "'pop2000' - Integer\n",
    "'pop2008' - Integer\n",
    "Create the table in the database using the metadata and engine."
   ]
  },
  {
   "cell_type": "code",
   "execution_count": null,
   "id": "98c6810b-69d9-42a4-ad69-139362a8d207",
   "metadata": {},
   "outputs": [],
   "source": [
    "# Import Table, Column, String, and Integer\n",
    "from sqlalchemy import Table, Column, String, Integer\n",
    "\n",
    "# Build a census table: census\n",
    "census = Table('census', metadata,\n",
    "               Column('state', String(30)),\n",
    "               Column('sex', String(1)),\n",
    "               Column('age', Integer()),\n",
    "               Column('pop2000', Integer()),\n",
    "               Column('pop2008', Integer()))\n",
    "\n",
    "# Create the table in the database\n",
    "metadata.create_all(engine)\n"
   ]
  },
  {
   "cell_type": "markdown",
   "id": "87093f7b-b9d4-419d-bc86-612dec76db06",
   "metadata": {},
   "source": [
    "# Reading the data from the CSV"
   ]
  },
  {
   "cell_type": "markdown",
   "id": "1a5290c5-68b8-4b14-a729-c5ed20626913",
   "metadata": {},
   "source": [
    "Leverage the Python CSV module from the standard library and load the data into a list of dictionaries.\n",
    "\n",
    "It may help to refer back to the Chapter 4 exercise in which you did something similar.\n",
    "\n",
    "Instructions\n",
    "100 XP\n",
    "Create an empty list called values_list.\n",
    "Iterate over the rows of csv_reader with a for loop, creating a dictionary called data for each row and append it to values_list.\n",
    "Within the for loop, row will be a list whose entries are 'state' , 'sex', 'age', 'pop2000' and 'pop2008' (in that order)."
   ]
  },
  {
   "cell_type": "code",
   "execution_count": null,
   "id": "0de3660f-e7ed-4f8b-84c6-369771e0ec5d",
   "metadata": {},
   "outputs": [],
   "source": [
    "# Create an empty list: values_list\n",
    "values_list = []\n",
    "\n",
    "# Iterate over the rows\n",
    "for row in csv_reader:\n",
    "    # Create a dictionary with the values\n",
    "    data = {'state': row[0], 'sex': row[1], 'age':row[2], 'pop2000': row[3],\n",
    "            'pop2008': row[4]}\n",
    "    # Append the dictionary to the values list\n",
    "    values_list.append(data)\n"
   ]
  },
  {
   "cell_type": "markdown",
   "id": "6f327d31-ccdc-4b44-b47d-96c847a2df44",
   "metadata": {},
   "source": [
    "# Load data from a list into the Table"
   ]
  },
  {
   "cell_type": "markdown",
   "id": "9b54e34d-e62f-480c-acc7-edd929cdb2d0",
   "metadata": {},
   "source": [
    "Using the multiple insert pattern, in this exercise, you will load the data from values_list into the table.\n",
    "\n",
    "Instructions\n",
    "100 XP\n",
    "Import insert from sqlalchemy.\n",
    "Build an insert statement for the census table.\n",
    "Execute the statement stmt along with values_list. You will need to pass them both as arguments to connection.execute().\n",
    "Print the rowcount attribute of results."
   ]
  },
  {
   "cell_type": "code",
   "execution_count": null,
   "id": "46e6b941-c42c-47ce-96b2-a55726c3dcca",
   "metadata": {},
   "outputs": [],
   "source": [
    "# Import insert\n",
    "from sqlalchemy import insert\n",
    "\n",
    "# Build insert statement: stmt\n",
    "stmt = insert(census)\n",
    "\n",
    "# Use values_list to insert data: results\n",
    "results = connection.execute(stmt, values_list)\n",
    "\n",
    "# Print rowcount\n",
    "print(results.rowcount)\n"
   ]
  },
  {
   "cell_type": "markdown",
   "id": "c137b5c7-9048-479c-96b9-52c03690502b",
   "metadata": {},
   "source": [
    "# Determine the average age by population"
   ]
  },
  {
   "cell_type": "markdown",
   "id": "01159493-f20d-4fd5-84cf-0a28561731ae",
   "metadata": {},
   "source": [
    "As Jason discussed in the video, to calculate a weighted average, we first find the total sum of weights multiplied by the values we're averaging, then divide by the sum of all the weights.\n",
    "\n",
    "For example, if we wanted to find a weighted average of data = [10, 30, 50] weighted by weights = [2,4,6], we would compute \n",
    " \n",
    ", or sum(weights * data) / sum(weights).\n",
    "\n",
    "In this exercise, however, you will make use of func.sum() together with select to select the weighted average of a column from a table. You will still work with the census data, and you will compute the average of age weighted by state population in the year 2000, and then group this weighted average by sex.\n",
    "\n",
    "Instructions 1/4\n",
    "Import select and func from sqlalchemy.\n",
    "Write a statement to select the average of age (age) weighted by population in 2000 (pop2000) from census."
   ]
  },
  {
   "cell_type": "code",
   "execution_count": null,
   "id": "8987941b-7ee0-4dfd-88ca-72ee64cbd1df",
   "metadata": {},
   "outputs": [],
   "source": [
    "# Import select and func\n",
    "from sqlalchemy import select, func\n",
    "\n",
    "# Select the average of age weighted by pop2000\n",
    "stmt = select([func.sum(census.columns.pop2000 * census.columns.age) / func.sum(census.columns.pop2000)\n",
    "\t\t\t  ])"
   ]
  },
  {
   "cell_type": "code",
   "execution_count": null,
   "id": "b374bd9c-619f-48c3-8ea1-927c431cbc18",
   "metadata": {},
   "outputs": [],
   "source": [
    "# Modify the select statement to alias the new column with weighted average as 'average_age' using .label().\n",
    "\n",
    "# Import select and func\n",
    "from sqlalchemy import select, func\n",
    "\n",
    "# Relabel the new column as average_age\n",
    "stmt = select([(func.sum(census.columns.pop2000 * census.columns.age) \n",
    "  \t\t\t\t\t/ func.sum(census.columns.pop2000)).label('average_age')\n",
    "\t\t\t  ])"
   ]
  },
  {
   "cell_type": "code",
   "execution_count": null,
   "id": "4a96a2c4-9144-4689-927b-1f262bf31d04",
   "metadata": {},
   "outputs": [],
   "source": [
    "# Modify the select statement to select the sex column of census in addition to the weighted average, with the sex column coming first.\n",
    "#Group by the sex column of census.\n",
    "\n",
    "# Import select and func\n",
    "from sqlalchemy import select, func\n",
    "\n",
    "# Add the sex column to the select statement\n",
    "stmt = select([ census.columns.sex,\n",
    "                (func.sum(census.columns.pop2000 * census.columns.age) \n",
    "  \t\t\t\t\t/ func.sum(census.columns.pop2000)).label('average_age'),               \n",
    "\t\t\t  ])\n",
    "\n",
    "# Group by sex\n",
    "stmt = stmt.group_by(census.columns.sex)"
   ]
  },
  {
   "cell_type": "code",
   "execution_count": null,
   "id": "dcf07cbe-42fa-44ec-b35c-587c2a6141b5",
   "metadata": {},
   "outputs": [],
   "source": [
    "# Import select and func\n",
    "from sqlalchemy import select, func\n",
    "\n",
    "# Select sex and average age weighted by 2000 population\n",
    "stmt = select([(func.sum(census.columns.pop2000 * census.columns.age) \n",
    "  \t\t\t\t\t/ func.sum(census.columns.pop2000)).label('average_age'),\n",
    "               census.columns.sex\n",
    "\t\t\t  ])\n",
    "\n",
    "# Group by sex\n",
    "stmt = stmt.group_by(census.columns.sex)\n",
    "\n",
    "# Execute the query and fetch all the results\n",
    "results = connection.execute(stmt).fetchall()\n",
    "\n",
    "# Print the sex and average age column for each result\n",
    "for result in results:\n",
    "    print(result.sex, result.average_age)"
   ]
  },
  {
   "cell_type": "markdown",
   "id": "378a4244-d08d-4226-85ac-5f50119501bb",
   "metadata": {},
   "source": [
    "# Determine the percentage of population by gender and state"
   ]
  },
  {
   "cell_type": "markdown",
   "id": "7ec8add2-bd73-4f51-99c7-9850356563b3",
   "metadata": {},
   "source": [
    "In this exercise, you will write a query to determine the percentage of the population in 2000 that comprised of women. You will group this query by state.\n",
    "\n",
    "Instructions\n",
    "100 XP\n",
    "Import case, cast and Float from sqlalchemy.\n",
    "Define a statement to select state and the percentage of women in 2000.\n",
    "Inside func.sum(), use case() to select women (using the sex column) from pop2000. Remember to specify else_=0 if the sex is not 'F'.\n",
    "To get the percentage, divide the number of women in the year 2000 by the overall population in 2000. Cast the divisor - census.columns.pop2000 - to Float before multiplying by 100.\n",
    "Group the query by state.\n",
    "Execute the query and store it as results.\n",
    "Print state and percent_female for each record. This has been done for you, so submit the answer to see the result."
   ]
  },
  {
   "cell_type": "code",
   "execution_count": null,
   "id": "c2f0d569-e08f-4acd-869c-4c438e38bd09",
   "metadata": {},
   "outputs": [],
   "source": [
    "# import case, cast and Float from sqlalchemy\n",
    "from sqlalchemy import case, cast, Float\n",
    "\n",
    "# Build a query to calculate the percentage of women in 2000: stmt\n",
    "stmt = select([census.columns.state,\n",
    "    (func.sum(\n",
    "        case([\n",
    "            (census.columns.sex == 'F', census.columns.pop2000)\n",
    "        ], else_=0)) /\n",
    "     cast(func.sum(census.columns.pop2000), Float) * 100).label('percent_female')\n",
    "])\n",
    "\n",
    "# Group By state\n",
    "stmt = stmt.group_by(census.columns.state)\n",
    "\n",
    "# Execute the query and store the results: results\n",
    "results = connection.execute(stmt).fetchall()\n",
    "\n",
    "# Print the percentage\n",
    "for result in results:\n",
    "    print(result.state, result.percent_female)\n"
   ]
  },
  {
   "cell_type": "markdown",
   "id": "16a51fef-e26a-4bb2-96a8-29db474fd4a3",
   "metadata": {},
   "source": [
    "# Determine the difference by state from the 2000 and 2008 censuses"
   ]
  },
  {
   "cell_type": "markdown",
   "id": "b67c396b-07c2-4a03-ad0e-e0bb96d14441",
   "metadata": {},
   "source": [
    "In this final exercise, you will write a query to calculate the states that changed the most in population. You will limit your query to display only the top 10 states.\n",
    "\n",
    "Instructions\n",
    "100 XP\n",
    "Build a statement to:\n",
    "Select state.\n",
    "Calculate the difference in population between 2008 (pop2008) and 2000 (pop2000).\n",
    "Group the query by census.columns.state using the .group_by() method on stmt.\n",
    "Order by 'pop_change' in descending order using the .order_by() method with the desc() function on 'pop_change'.\n",
    "Limit the query to the top 10 states using the .limit() method.\n",
    "Execute the query and store it as results.\n",
    "Print the state and the population change for each result. This has been done for you, so submit the answer to see the result!"
   ]
  },
  {
   "cell_type": "code",
   "execution_count": null,
   "id": "41784f7c-b480-488d-8f36-4035c6b67ede",
   "metadata": {},
   "outputs": [],
   "source": [
    "# Build query to return state name and population difference from 2008 to 2000\n",
    "stmt = select([census.columns.state,\n",
    "     (census.columns.pop2008 - census.columns.pop2000).label('pop_change')\n",
    "])\n",
    "\n",
    "# Group by State\n",
    "stmt = stmt.group_by(census.columns.state)\n",
    "\n",
    "# Order by Population Change\n",
    "stmt = stmt.order_by(desc('pop_change'))\n",
    "\n",
    "# Limit to top 10\n",
    "stmt = stmt.limit(10)\n",
    "\n",
    "# Use connection to execute the statement and fetch all results\n",
    "results = connection.execute(stmt).fetchall()\n",
    "\n",
    "# Print the state and population change for each record\n",
    "for result in results:\n",
    "    print('{}:{}'.format(result.state, result.pop_change))"
   ]
  },
  {
   "cell_type": "markdown",
   "id": "2f360097-f30e-46fa-a4c3-257a7667ea6f",
   "metadata": {},
   "source": []
  }
 ],
 "metadata": {
  "editor": "DataCamp Workspace",
  "kernelspec": {
   "display_name": "Python [conda env:base] *",
   "language": "python",
   "name": "conda-base-py"
  },
  "language_info": {
   "codemirror_mode": {
    "name": "ipython",
    "version": 3
   },
   "file_extension": ".py",
   "mimetype": "text/x-python",
   "name": "python",
   "nbconvert_exporter": "python",
   "pygments_lexer": "ipython3",
   "version": "3.12.3"
  }
 },
 "nbformat": 4,
 "nbformat_minor": 5
}
